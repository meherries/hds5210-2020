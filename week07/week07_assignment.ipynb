{
 "cells": [
  {
   "cell_type": "markdown",
   "metadata": {},
   "source": [
    "# Week 7 Assignment\n",
    "\n",
    "This week has been all about getting information off the internet both in structured data formats (CSV, JSON, etc) as well as HTML.  Answer the questions below as instructed."
   ]
  },
  {
   "cell_type": "markdown",
   "metadata": {},
   "source": [
    "### 31.1 Finding files on the internet\n",
    "\n",
    "Go to healthdata.gov and find a file that looks interesting to you.  Provide the metadata below that describes the file you located.\n",
    "\n",
    "The cell below is a \"markdown\" cell.  Just double-click it to edit the contents and then Shift-Enter to show the content as formatted text.\n",
    "\n",
    "---"
   ]
  },
  {
   "cell_type": "markdown",
   "metadata": {},
   "source": [
    "**Dataset Name:**  Hospital Quarterly Financial & Utilization Report - Complete Data Set/2019 Quarter 3 - Complete Data Set (1/10/20)\n",
    "\n",
    "**File Name:** 2019_q3.csv\n",
    "\n",
    "**URL to Page:** https://healthdata.gov/dataset/hospital-quarterly-financial-utilization-report-complete-data-set/resource/37231e4d-5a89\n",
    "\n",
    "**Description:** \"On a quarterly basis (every three months), individual hospitals and hospital systems report summary facility-level data on services capacity, revenues and expenses by payer, and utilization by payer. The complete database contains all of the data reported by hospitals. Data for the current year are available by individual calendar quarters. Once the 4th quarter of the current year is posted, then the prior year quarters will be rolled into one spreadsheet file which combines all the Quarterly data for that year.\"\n",
    "\n",
    "**URL to Actual File:** https://data.chhs.ca.gov/dataset/22026f7b-198a-4708-b1ab-a4aa14885c6e/resource/fda03b6f-a721-43c9-9d28-f7f107a03fec/download/2019_q3.csv\n",
    "\n",
    "**File Format:** CSV\n",
    "\n"
   ]
  },
  {
   "cell_type": "markdown",
   "metadata": {},
   "source": [
    "---"
   ]
  },
  {
   "cell_type": "markdown",
   "metadata": {},
   "source": [
    "### 31.2 Use Pandas to load data from internet\n",
    "\n",
    "Now write a block of code (doesn't need to be in a function) that will load the file using Pandas and describe the shape of the file contents.  I've provided a cell with some comments in it to help get you started.\n",
    "\n",
    "Pandas documentation for loading data https://pandas.pydata.org/pandas-docs/version/0.23.4/api.html#input-output\n",
    "\n",
    "Pandas documentation for describing the shape of data https://pandas.pydata.org/pandas-docs/version/0.23.4/generated/pandas.DataFrame.shape.html"
   ]
  },
  {
   "cell_type": "code",
   "execution_count": 1,
   "metadata": {},
   "outputs": [
    {
     "data": {
      "text/plain": [
       "(437, 133)"
      ]
     },
     "execution_count": 1,
     "metadata": {},
     "output_type": "execute_result"
    }
   ],
   "source": [
    "import pandas as pd\n",
    "\n",
    "# Load data using one of the read functions depending on your data file type\n",
    "# data = pd.read_ ...\n",
    "data = pd.read_csv('https://data.chhs.ca.gov/dataset/22026f7b-198a-4708-b1ab-a4aa14885c6e/resource/fda03b6f-a721-43c9-9d28-f7f107a03fec/download/2019_q3.csv')\n",
    "\n",
    "#Print out the row / column count\n",
    "# data. ...\n",
    "data.shape"
   ]
  },
  {
   "cell_type": "markdown",
   "metadata": {},
   "source": [
    "---"
   ]
  },
  {
   "cell_type": "markdown",
   "metadata": {},
   "source": [
    "### 32.1 HTML Basics\n",
    "\n",
    "HTML is a form of which othere data format we've talked about:\n",
    "\n",
    "> A) Binary\n",
    ">\n",
    "> B) eXtensible Markup Language\n",
    "> \n",
    "> C) JavaScript Object Notation\n",
    ">\n",
    "> D) HL7 FHIR"
   ]
  },
  {
   "cell_type": "code",
   "execution_count": null,
   "metadata": {},
   "outputs": [],
   "source": [
    "answer321 = \"B\""
   ]
  },
  {
   "cell_type": "markdown",
   "metadata": {},
   "source": [
    "### 32.2 Things in HTML\n",
    "\n",
    "Which of the following is **not** a part of HTML:\n",
    "\n",
    "> A) element\n",
    "> \n",
    "> B) tag\n",
    ">\n",
    "> C) dictionary\n",
    ">\n",
    "> D) attribute"
   ]
  },
  {
   "cell_type": "code",
   "execution_count": null,
   "metadata": {},
   "outputs": [],
   "source": [
    "answer322 = \"C\""
   ]
  },
  {
   "cell_type": "markdown",
   "metadata": {},
   "source": [
    "### 32.3 Parsing HTML in Python\n",
    "\n",
    "Which of the following packages can be used to extract a table of data from HTML using Python (include all that apply in a list):\n",
    "\n",
    "> A) lxml\n",
    "> \n",
    "> B) BeautifulSoup\n",
    ">\n",
    "> C) Pandas \n",
    ">\n",
    "> D) fuzzywuzzy"
   ]
  },
  {
   "cell_type": "code",
   "execution_count": null,
   "metadata": {},
   "outputs": [],
   "source": [
    "answer323 = [\"A\",\"B\",\"C\"]"
   ]
  }
 ],
 "metadata": {
  "kernelspec": {
   "display_name": "Python 3",
   "language": "python",
   "name": "python3"
  },
  "language_info": {
   "codemirror_mode": {
    "name": "ipython",
    "version": 3
   },
   "file_extension": ".py",
   "mimetype": "text/x-python",
   "name": "python",
   "nbconvert_exporter": "python",
   "pygments_lexer": "ipython3",
   "version": "3.6.7"
  }
 },
 "nbformat": 4,
 "nbformat_minor": 4
}
