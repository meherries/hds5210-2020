{
 "cells": [
  {
   "cell_type": "markdown",
   "metadata": {
    "nbgrader": {
     "grade": false,
     "grade_id": "intro",
     "locked": true,
     "schema_version": 1,
     "solution": false
    }
   },
   "source": [
    "# Week 11 Exercises\n",
    "\n",
    "_McKinney 7.2, 11.1_\n",
    "\n",
    "The general activity that we are doing in this week's exercise is to explore and try to understand a particular data set.  In this case, it is \n",
    "\n",
    "1. Read in the data file and filter down to only looking at MO hospitals\n",
    "2. Aggregate by Hospital: sum the Denominator, use min Start Date, use max End Date  (watch for rows with no Denominator value!)\n",
    "3. Calculate the average per day across that entire span\n",
    "4. Histogram\n",
    "5. Rank and find the hospital with the most"
   ]
  },
  {
   "cell_type": "markdown",
   "metadata": {
    "nbgrader": {
     "grade": false,
     "grade_id": "q1-intro",
     "locked": true,
     "schema_version": 1,
     "solution": false
    }
   },
   "source": [
    "## STEP 1 - Read and Filter\n",
    "\n",
    "<img src=\"images/step1.png\" alt=\"Read and Filter Output\" style=\"width: 500px; float: right; margin-left: 20px; border: 1px solid\">\n",
    "\n",
    "In the first step, read in the data file from the data directory `/data/complications_all.csv`.  It is a CSV file and Pandas should read it in just fine.  Explore the file so that you understand the columns and values.  At the end of this step, create a variable called `mo_hospitals` that contains a data frame from the `complications_all.csv` file, filtered down to only contain those hospitals from the state of Missouri (MO).\n",
    "\n",
    "A screenshot is included for reference.\n",
    "\n"
   ]
  },
  {
   "cell_type": "code",
   "execution_count": null,
   "metadata": {
    "nbgrader": {
     "grade": false,
     "grade_id": "q1-solution",
     "locked": false,
     "schema_version": 1,
     "solution": true
    }
   },
   "outputs": [],
   "source": [
    "import pandas as pd\n",
    "\n",
    "# This is just to show you the name to use for the variable you need to create for this step to pass.\n",
    "mo_hospitals = pd.DataFrame()\n",
    "\n",
    "# Put your code below and make sure that you reassign `mo_hospitals` \n",
    "# to have the contents described in the instructions.\n",
    "mo_hospitals = pd.read_csv('/data/complications_all.csv')\n",
    "mo_hospitals=mo_hospitals[mo_hospitals['State']=='MO']\n"
   ]
  },
  {
   "cell_type": "code",
   "execution_count": null,
   "metadata": {},
   "outputs": [],
   "source": [
    "mo_hospitals.head()"
   ]
  },
  {
   "cell_type": "code",
   "execution_count": null,
   "metadata": {
    "nbgrader": {
     "grade": true,
     "grade_id": "q1-tests",
     "locked": true,
     "points": 2,
     "schema_version": 1,
     "solution": false
    }
   },
   "outputs": [],
   "source": [
    "# These assertions will help make sure that you're on the right track.\n",
    "assert(mo_hospitals['State'].unique() == ['MO'])\n",
    "assert(mo_hospitals.shape == (2133,18))"
   ]
  },
  {
   "cell_type": "markdown",
   "metadata": {
    "nbgrader": {
     "grade": false,
     "grade_id": "q2-intro",
     "locked": true,
     "schema_version": 1,
     "solution": false
    }
   },
   "source": [
    "## STEP 2 - Transform and Aggregate\n",
    "\n",
    "<img src=\"images/step2.png\" alt=\"Transforma and Aggregate Output\" style=\"width: 500px; float: right; margin-left: 20px; border: 1px solid\">\n",
    "\n",
    "In the next step, we need to aggregate the results by hospital.  There are some key fields that we want to summarize, though:\n",
    "* We want to know the earliest date that each hospital was participating in any program\n",
    "* We want to know the latest date that each hospital stopped participating in any program\n",
    "* We want to know the total number of patients in the denominators of these programs\n",
    "\n",
    "Some things to note:\n",
    "* You will need to convert the `Start Date` and `End Date` to actual datetime fields\n",
    "* You will need to clean up and convert the `Denominator` field to just be numeric - the rule that you should use it to simply remove any records where the `Denominator` is `'Not Available'`\n",
    "\n",
    "The final result of this step should be a new data frame called `mo_summary` that contains one row for each hospital and contains the min start date, max end date, and total denominator.  Use the names `start_date`, `end_date`, and `number` for those columns in `mo_summary`.\n",
    "\n",
    "A screenshot is included for reference."
   ]
  },
  {
   "cell_type": "code",
   "execution_count": null,
   "metadata": {
    "nbgrader": {
     "grade": false,
     "grade_id": "q2-solution",
     "locked": false,
     "schema_version": 1,
     "solution": true
    }
   },
   "outputs": [],
   "source": [
    "# This is just to show you the name to use for the variable you need to create for this step to pass.\n",
    "mo_summary1 = pd.DataFrame()\n",
    "\n",
    "# Put your code below and make sure that you reassign `mo_summary` \n",
    "# to have the contents described in the instructions.\n",
    "mo_summary1=mo_hospitals[mo_hospitals['Denominator']!= 'Not Available'] \n",
    "\n",
    "mo_summary2 = pd.DataFrame()\n",
    "mo_summary2['Hospital Name'] = mo_summary1['Facility Name'].astype(str) \n",
    "mo_summary2['start_date'] = pd.to_datetime(mo_summary1['Start Date'], format='%m/%d/%Y')\n",
    "mo_summary2['end_date'] = pd.to_datetime(mo_summary1['End Date'], format='%m/%d/%Y')\n",
    "mo_summary2['number'] = mo_summary1['Denominator'].astype(int) \n",
    "#mo_summary2=mo_summary2.set_index(['Hospital Name'])\n",
    "\n",
    "mo_summary = pd.DataFrame()\n",
    "mo_summary['start_date']=mo_summary2.groupby(['Hospital Name'])['start_date'].min()\n",
    "mo_summary['end_date']=mo_summary2.groupby(['Hospital Name'])['end_date'].max()\n",
    "mo_summary['number']=mo_summary2.groupby(['Hospital Name'])['number'].sum()\n",
    "\n",
    "mo_summary"
   ]
  },
  {
   "cell_type": "code",
   "execution_count": null,
   "metadata": {
    "nbgrader": {
     "grade": true,
     "grade_id": "q2-test",
     "locked": true,
     "points": 5,
     "schema_version": 1,
     "solution": false
    }
   },
   "outputs": [],
   "source": [
    "assert(mo_summary['number'].sum() == 1766908)\n",
    "assert(mo_summary['start_date'].min() == pd.Timestamp(2015,4,1))\n",
    "assert(mo_summary['end_date'].max() == pd.Timestamp(2018,6,30))\n",
    "assert(mo_summary.shape == (108,3))\n",
    "assert(mo_summary.loc['BARNES JEWISH HOSPITAL'].number == 131313)\n",
    "assert(mo_summary.loc['BOONE HOSPITAL CENTER'].number == 63099)"
   ]
  },
  {
   "cell_type": "markdown",
   "metadata": {
    "nbgrader": {
     "grade": false,
     "grade_id": "q3-intro",
     "locked": true,
     "schema_version": 1,
     "solution": false
    }
   },
   "source": [
    "## STEP 3: Average Per Day\n",
    "\n",
    "<img src=\"images/step3.png\" alt=\"Average per Day\" style=\"width: 500px; margin-left: 20px; float: right; border: 1px solid\">\n",
    "\n",
    "\n",
    "The next step, now that we have a start date, end date, and total patients for each day is to calculate how many patients on average per day this represents.  You will need to calculate the number of days between the start date and end date, and then the average as total patients divided by number of days.\n",
    "\n",
    "Your final output should still be the variable `mo_summary`, and it will need to have two additional columns: `days` and `per_day`.\n",
    "\n",
    "A screenshot is included for reference.\n"
   ]
  },
  {
   "cell_type": "code",
   "execution_count": null,
   "metadata": {
    "nbgrader": {
     "grade": false,
     "grade_id": "q3-solution",
     "locked": false,
     "schema_version": 1,
     "solution": true
    }
   },
   "outputs": [],
   "source": [
    "# Put your code below and make sure that you add new columns to `mo_summary` \n",
    "# to have the contents described in the instructions.\n",
    "import datetime\n",
    "\n",
    "mo_summary['days']= (mo_summary['end_date']-mo_summary['start_date'])\n",
    "import numpy as np\n",
    "mo_summary['days'] = mo_summary.days // np.timedelta64(1, 'D')\n",
    "mo_summary['per_day']= (mo_summary['number']/mo_summary['days'])\n",
    "mo_summary"
   ]
  },
  {
   "cell_type": "code",
   "execution_count": null,
   "metadata": {
    "nbgrader": {
     "grade": true,
     "grade_id": "q3-tests",
     "locked": true,
     "points": 5,
     "schema_version": 1,
     "solution": false
    }
   },
   "outputs": [],
   "source": [
    "assert(mo_summary['days'].sum() == 123718)\n",
    "assert(mo_summary['per_day'].mean() == 13.841279932122697)\n",
    "assert(mo_summary['per_day'].min() == 0.023744292237442923)\n",
    "assert(mo_summary['days'].min() == 729)\n",
    "assert(mo_summary['days'].max() == 1186)"
   ]
  },
  {
   "cell_type": "markdown",
   "metadata": {
    "nbgrader": {
     "grade": false,
     "grade_id": "q4-histogram",
     "locked": true,
     "schema_version": 1,
     "solution": false
    }
   },
   "source": [
    "## STEP 4: Histogram\n",
    "\n",
    "<img src=\"images/step4.png\" alt=\"Histogram\" style=\"width: 300px; float: right; margin-left: 20px; border: 1px solid\">\n",
    "\n",
    "For this step, I want you to plot a histogram to give yourself a better understanding of this new metric we've calculated: how many patients per day have a potential complication.  Looking at the shape and distribution of the data might give us some indication of the hospital volume and quality.  (Don't take this too seriously, though.  We're cutting some important corners.)\n",
    "\n",
    "A screenshot is included for reference."
   ]
  },
  {
   "cell_type": "code",
   "execution_count": null,
   "metadata": {
    "nbgrader": {
     "grade": true,
     "grade_id": "q4-solution",
     "locked": false,
     "points": 3,
     "schema_version": 1,
     "solution": true
    }
   },
   "outputs": [],
   "source": [
    "%matplotlib inline\n",
    "# Use the built-in Pandas histogram plotting capability to plot a histogram of the `per_day` values.\n",
    "mo_summary['per_day'].hist()\n"
   ]
  },
  {
   "cell_type": "markdown",
   "metadata": {
    "nbgrader": {
     "grade": false,
     "grade_id": "q5-intro",
     "locked": true,
     "schema_version": 1,
     "solution": false
    }
   },
   "source": [
    "## STEP 5: Rank Order\n",
    "\n",
    "Now that we see what the distribution looks like, you can tell that most of the `per_day` values are below 20.  There are, however, some outliers up around 100!  Who are those?  Let's rank the data set by the `per_day` value in descending order, examine them, and produce a list of the \"top 3\" based on this criteria.  That is, who are the top three hospitals based on having the highest `per_day` values.\n",
    "\n",
    "At the end of this step, put those hospital names in a list called `top_hospitals` and that will be used for testing.  They should be in the order they appear `[#1, #2, #3]`.  That is, if the top hospitals were Mercy (99.3), BJC (97.2), and MoBap (90.1), then you would have `top_hospitals = ['Mercy','BJC','MoBap']`"
   ]
  },
  {
   "cell_type": "code",
   "execution_count": null,
   "metadata": {
    "nbgrader": {
     "grade": false,
     "grade_id": "q5-solution",
     "locked": false,
     "schema_version": 1,
     "solution": true
    }
   },
   "outputs": [],
   "source": [
    "# Put your code below and make sure that your final result ends up in the variable `top_hospitals`\n",
    "# as described in the instructions above.\n",
    "\n",
    "top_hospitals = []\n",
    "mo_summary['rank']=mo_summary.per_day.rank()\n",
    "mo_summary=mo_summary.sort_values('rank',  ascending=False)\n",
    "mo_summary=mo_summary.reset_index()\n",
    "top_hospitals =mo_summary[:3]['Hospital Name'].tolist()"
   ]
  },
  {
   "cell_type": "code",
   "execution_count": null,
   "metadata": {
    "nbgrader": {
     "grade": true,
     "grade_id": "q5-tests",
     "locked": true,
     "points": 5,
     "schema_version": 1,
     "solution": false
    }
   },
   "outputs": [],
   "source": [
    "assert(type(top_hospitals) == list)\n",
    "### BEGIN HIDDEN TESTS\n",
    "assert(top_hospitals == ['BARNES JEWISH HOSPITAL', 'MERCY HOSPITAL SPRINGFIELD', 'COX MEDICAL CENTERS'])\n",
    "### END HIDDEN TESTS"
   ]
  },
  {
   "cell_type": "code",
   "execution_count": null,
   "metadata": {},
   "outputs": [],
   "source": []
  }
 ],
 "metadata": {
  "celltoolbar": "Create Assignment",
  "kernelspec": {
   "display_name": "Python 3",
   "language": "python",
   "name": "python3"
  },
  "language_info": {
   "codemirror_mode": {
    "name": "ipython",
    "version": 3
   },
   "file_extension": ".py",
   "mimetype": "text/x-python",
   "name": "python",
   "nbconvert_exporter": "python",
   "pygments_lexer": "ipython3",
   "version": "3.6.7"
  }
 },
 "nbformat": 4,
 "nbformat_minor": 2
}
